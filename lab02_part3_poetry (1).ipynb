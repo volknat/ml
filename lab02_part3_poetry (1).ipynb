{
  "cells": [
    {
      "cell_type": "markdown",
      "metadata": {
        "id": "vGcOAABK0QYC"
      },
      "source": [
        "## Lab 2"
      ]
    },
    {
      "cell_type": "markdown",
      "metadata": {
        "id": "RAOF_6K50QYE"
      },
      "source": [
        "### Part 3. Poetry generation\n",
        "\n",
        "Let's try to generate some poetry using RNNs.\n",
        "\n",
        "You have several choices here:\n",
        "\n",
        "* The Shakespeare sonnets, file `sonnets.txt` available in the notebook directory.\n",
        "\n",
        "* Роман в стихах \"Евгений Онегин\" Александра Сергеевича Пушкина. В предобработанном виде доступен по [ссылке](https://github.com/attatrol/data_sources/blob/master/onegin.txt).\n",
        "\n",
        "* Some other text source, if it will be approved by the course staff.\n",
        "\n",
        "Text generation can be designed in several steps:\n",
        "    \n",
        "1. Data loading.\n",
        "2. Dictionary generation.\n",
        "3. Data preprocessing.\n",
        "4. Model (neural network) training.\n",
        "5. Text generation (model evaluation).\n"
      ]
    },
    {
      "cell_type": "code",
      "execution_count": 2,
      "metadata": {
        "id": "ye00hem50QYF"
      },
      "outputs": [],
      "source": [
        "import string\n",
        "import os"
      ]
    },
    {
      "cell_type": "markdown",
      "metadata": {
        "id": "Gfjki-wd0QYG"
      },
      "source": [
        "### Data loading: Shakespeare"
      ]
    },
    {
      "cell_type": "markdown",
      "metadata": {
        "id": "aMQC4tHr0QYG"
      },
      "source": [
        "Shakespeare sonnets are awailable at this [link](http://www.gutenberg.org/ebooks/1041?msg=welcome_stranger). In addition, they are stored in the same directory as this notebook (`sonnetes.txt`). Simple preprocessing is already done for you in the next cell: all technical info is dropped."
      ]
    },
    {
      "cell_type": "code",
      "execution_count": 3,
      "metadata": {
        "collapsed": true,
        "id": "KUF24aQG0QYH"
      },
      "outputs": [],
      "source": [
        "if not os.path.exists('sonnets.txt'):\n",
        "    !wget https://raw.githubusercontent.com/girafe-ai/ml-course/22f_basic/homeworks_basic/lab02_deep_learning/sonnets.txt\n",
        "\n",
        "with open('sonnets.txt', 'r') as iofile:\n",
        "    text = iofile.readlines()\n",
        "\n",
        "TEXT_START = 45\n",
        "TEXT_END = -368\n",
        "text = text[TEXT_START : TEXT_END]\n",
        "assert len(text) == 2616"
      ]
    },
    {
      "cell_type": "markdown",
      "metadata": {
        "id": "BRwwElt40QYH"
      },
      "source": [
        "In opposite to the in-class practice, this time we want to predict complex text. Let's reduce the complexity of the task and lowercase all the symbols.\n",
        "\n",
        "Now variable `text` is a list of strings. Join all the strings into one and lowercase it."
      ]
    },
    {
      "cell_type": "code",
      "execution_count": 4,
      "metadata": {
        "colab": {
          "base_uri": "https://localhost:8080/"
        },
        "id": "VFVcBXVf0QYI",
        "outputId": "6fb6f6ca-9711-4071-b01b-af084599d1a8"
      },
      "outputs": [
        {
          "output_type": "stream",
          "name": "stdout",
          "text": [
            "OK!\n"
          ]
        }
      ],
      "source": [
        "# Join all the strings into one and lowercase it\n",
        "# Put result into variable text.\n",
        "\n",
        "# Your great code here\n",
        "text = ''.join(text).lower()\n",
        "\n",
        "assert len(text) == 100225, 'Are you sure you have concatenated all the strings?'\n",
        "assert not any([x in set(text) for x in string.ascii_uppercase]), 'Uppercase letters are present'\n",
        "print('OK!')"
      ]
    },
    {
      "cell_type": "markdown",
      "metadata": {
        "id": "2oYsDHIY0QYI"
      },
      "source": [
        "### Data loading: \"Евгений Онегин\"\n"
      ]
    },
    {
      "cell_type": "code",
      "execution_count": 5,
      "metadata": {
        "colab": {
          "base_uri": "https://localhost:8080/"
        },
        "id": "AW0PR2-D0QYI",
        "outputId": "bc732a0b-1937-42c0-d0a4-67e38b2e3f9d"
      },
      "outputs": [
        {
          "output_type": "stream",
          "name": "stdout",
          "text": [
            "--2024-12-16 18:36:19--  https://raw.githubusercontent.com/attatrol/data_sources/master/onegin.txt\n",
            "Resolving raw.githubusercontent.com (raw.githubusercontent.com)... 185.199.108.133, 185.199.109.133, 185.199.110.133, ...\n",
            "Connecting to raw.githubusercontent.com (raw.githubusercontent.com)|185.199.108.133|:443... connected.\n",
            "HTTP request sent, awaiting response... 200 OK\n",
            "Length: 262521 (256K) [text/plain]\n",
            "Saving to: ‘onegin.txt.1’\n",
            "\n",
            "onegin.txt.1        100%[===================>] 256.37K  --.-KB/s    in 0.02s   \n",
            "\n",
            "2024-12-16 18:36:20 (10.0 MB/s) - ‘onegin.txt.1’ saved [262521/262521]\n",
            "\n"
          ]
        }
      ],
      "source": [
        "!wget https://raw.githubusercontent.com/attatrol/data_sources/master/onegin.txt\n",
        "\n",
        "with open('onegin.txt', 'r') as iofile:\n",
        "    text = iofile.readlines()\n",
        "\n",
        "text = [x.replace('\\t\\t', '') for x in text]"
      ]
    },
    {
      "cell_type": "markdown",
      "metadata": {
        "id": "JWCqwSTZ0QYJ"
      },
      "source": [
        "In opposite to the in-class practice, this time we want to predict complex text. Let's reduce the complexity of the task and lowercase all the symbols.\n",
        "\n",
        "Now variable `text` is a list of strings. Join all the strings into one and lowercase it."
      ]
    },
    {
      "cell_type": "code",
      "execution_count": 6,
      "metadata": {
        "id": "IhYcuFDq0QYJ"
      },
      "outputs": [],
      "source": [
        "# Join all the strings into one and lowercase it\n",
        "# Put result into variable text.\n",
        "\n",
        "# Your great code here\n",
        "text = ''.join(text).lower()"
      ]
    },
    {
      "cell_type": "markdown",
      "metadata": {
        "id": "c7uXRulI0QYJ"
      },
      "source": [
        "Put all the characters, that you've seen in the text, into variable `tokens`."
      ]
    },
    {
      "cell_type": "code",
      "execution_count": 7,
      "metadata": {
        "id": "TajDr5Zq0QYK"
      },
      "outputs": [],
      "source": [
        "tokens = sorted(set(text))"
      ]
    },
    {
      "cell_type": "markdown",
      "metadata": {
        "id": "hbPw9JXF0QYK"
      },
      "source": [
        "Create dictionary `token_to_idx = {<char>: <index>}` and dictionary `idx_to_token = {<index>: <char>}`"
      ]
    },
    {
      "cell_type": "code",
      "execution_count": 8,
      "metadata": {
        "collapsed": true,
        "id": "smtD-QbV0QYK"
      },
      "outputs": [],
      "source": [
        "token_to_id = {char: idx for idx, char in enumerate(tokens)}\n",
        "id_to_token = {idx: char for char, idx in token_to_id.items()}"
      ]
    },
    {
      "cell_type": "markdown",
      "metadata": {
        "id": "JpdoESkX0QYL"
      },
      "source": [
        "*Comment: in this task we have only 38 different tokens, so let's use one-hot encoding.*"
      ]
    },
    {
      "cell_type": "markdown",
      "metadata": {
        "id": "2iWNe4O70QYL"
      },
      "source": [
        "### Building the model"
      ]
    },
    {
      "cell_type": "markdown",
      "metadata": {
        "id": "lLwQlBYw0QYL"
      },
      "source": [
        "Now we want to build and train recurrent neural net which would be able to something similar to Shakespeare's poetry.\n",
        "\n",
        "Let's use vanilla RNN, similar to the one created during the lesson."
      ]
    },
    {
      "cell_type": "code",
      "execution_count": 9,
      "metadata": {
        "collapsed": true,
        "id": "zWKM8-h40QYM"
      },
      "outputs": [],
      "source": [
        "import torch\n",
        "import torch.nn as nn\n",
        "import torch.optim as optim\n",
        "\n",
        "class CharRNN(nn.Module):\n",
        "    def __init__(self, input_size, hidden_size, output_size):\n",
        "        super(CharRNN, self).__init__()\n",
        "        self.hidden_size = hidden_size\n",
        "        self.rnn = nn.RNN(input_size, hidden_size, batch_first=True)\n",
        "        self.fc = nn.Linear(hidden_size, output_size)\n",
        "\n",
        "    def forward(self, x, hidden):\n",
        "        out, hidden = self.rnn(x, hidden)\n",
        "        out = self.fc(out[:, -1, :])\n",
        "        return out, hidden\n",
        "\n",
        "    def init_hidden(self, batch_size):\n",
        "        return torch.zeros(1, batch_size, self.hidden_size)\n",
        "\n",
        "def train_rnn(model, data_loader, criterion, optimizer, num_epochs):\n",
        "    model.train()\n",
        "    loss_list = []\n",
        "    for epoch in range(num_epochs):\n",
        "        total_loss = 0\n",
        "        for inputs, targets in data_loader:\n",
        "            optimizer.zero_grad()\n",
        "            hidden = model.init_hidden(inputs.size(0))\n",
        "            outputs, hidden = model(inputs, hidden)\n",
        "            loss = criterion(outputs, targets)\n",
        "            loss.backward()\n",
        "            optimizer.step()\n",
        "            total_loss += loss.item()\n",
        "\n",
        "        avg_loss = total_loss / len(data_loader)\n",
        "        loss_list.append(avg_loss)\n",
        "        print(f'Epoch {epoch + 1}/{num_epochs}, Loss: {avg_loss:.4f}')\n",
        "    return model, loss_list\n",
        "\n",
        "\n",
        "def prepare_data(token_to_id, id_to_token, text, seq_length = 25):\n",
        "\n",
        "    inputs = []\n",
        "    targets = []\n",
        "\n",
        "    for i in range(len(text) - seq_length):\n",
        "        seq = text[i:i + seq_length]\n",
        "        label = text[i + seq_length]\n",
        "        inputs.append([token_to_id[char] for char in seq])\n",
        "        targets.append(token_to_id[label])\n",
        "\n",
        "    inputs_tensor = torch.tensor(inputs, dtype=torch.long)\n",
        "    targets_tensor = torch.tensor(targets, dtype=torch.long)\n",
        "\n",
        "    inputs_one_hot = torch.zeros(inputs_tensor.size(0), inputs_tensor.size(1), len(token_to_id), dtype=torch.float32)\n",
        "\n",
        "\n",
        "    for i in range(inputs_tensor.size(0)):\n",
        "        inputs_one_hot[i].scatter_(1, inputs_tensor[i].unsqueeze(1), 1.0)\n",
        "\n",
        "    for i in range(inputs_tensor.size(0)):\n",
        "        inputs_one_hot[i].scatter_(1, inputs_tensor[i].unsqueeze(1).long(), 1.0)\n",
        "\n",
        "    return inputs_one_hot, targets_tensor\n"
      ]
    },
    {
      "cell_type": "code",
      "execution_count": 13,
      "metadata": {
        "colab": {
          "base_uri": "https://localhost:8080/"
        },
        "id": "NPGVL5V95MKQ",
        "outputId": "d84d211c-1d6d-4775-939b-226644722fec"
      },
      "outputs": [
        {
          "output_type": "stream",
          "name": "stdout",
          "text": [
            "Epoch 1/30, Loss: 2.6254\n",
            "Epoch 2/30, Loss: 2.3515\n",
            "Epoch 3/30, Loss: 2.2519\n",
            "Epoch 4/30, Loss: 2.1887\n",
            "Epoch 5/30, Loss: 2.1404\n",
            "Epoch 6/30, Loss: 2.0973\n",
            "Epoch 7/30, Loss: 2.0686\n",
            "Epoch 8/30, Loss: 2.0384\n",
            "Epoch 9/30, Loss: 2.0176\n",
            "Epoch 10/30, Loss: 1.9967\n",
            "Epoch 11/30, Loss: 1.9792\n",
            "Epoch 12/30, Loss: 1.9651\n",
            "Epoch 13/30, Loss: 1.9495\n",
            "Epoch 14/30, Loss: 1.9403\n",
            "Epoch 15/30, Loss: 1.9253\n",
            "Epoch 16/30, Loss: 1.9160\n",
            "Epoch 17/30, Loss: 1.9106\n",
            "Epoch 18/30, Loss: 1.9071\n",
            "Epoch 19/30, Loss: 1.8911\n",
            "Epoch 20/30, Loss: 1.8875\n",
            "Epoch 21/30, Loss: 1.8800\n",
            "Epoch 22/30, Loss: 1.8792\n",
            "Epoch 23/30, Loss: 1.8692\n",
            "Epoch 24/30, Loss: 1.8663\n",
            "Epoch 25/30, Loss: 1.8617\n",
            "Epoch 26/30, Loss: 1.8664\n",
            "Epoch 27/30, Loss: 1.8551\n",
            "Epoch 28/30, Loss: 1.8537\n",
            "Epoch 29/30, Loss: 1.8525\n",
            "Epoch 30/30, Loss: 1.8477\n"
          ]
        }
      ],
      "source": [
        "inputs_tensor, targets_tensor = prepare_data(token_to_id, id_to_token, text)\n",
        "input_size = len(token_to_id)\n",
        "hidden_size = 128\n",
        "output_size = len(token_to_id)\n",
        "num_epochs = 30\n",
        "learning_rate = 0.001\n",
        "\n",
        "\n",
        "model = CharRNN(input_size, hidden_size, output_size)\n",
        "loss = nn.CrossEntropyLoss()\n",
        "opt = optim.Adam(model.parameters(), lr=learning_rate)\n",
        "\n",
        "dataset = torch.utils.data.TensorDataset(inputs_tensor, targets_tensor)\n",
        "data_loader = torch.utils.data.DataLoader(dataset, batch_size=32, shuffle=True)\n",
        "\n",
        "model, loss_list = train_rnn(model, data_loader, loss, opt, num_epochs)"
      ]
    },
    {
      "cell_type": "markdown",
      "metadata": {
        "id": "WuFkhchW0QYM"
      },
      "source": [
        "Plot the loss function (axis X: number of epochs, axis Y: loss function)."
      ]
    },
    {
      "cell_type": "code",
      "execution_count": 14,
      "metadata": {
        "collapsed": true,
        "id": "x1_wFsa-0QYM",
        "colab": {
          "base_uri": "https://localhost:8080/",
          "height": 449
        },
        "outputId": "d04b3cee-60e5-4694-9332-c0b9888f3ee7"
      },
      "outputs": [
        {
          "output_type": "display_data",
          "data": {
            "text/plain": [
              "<Figure size 640x480 with 1 Axes>"
            ],
            "image/png": "[encoded data removed]"
          },
          "metadata": {}
        }
      ],
      "source": [
        "import matplotlib.pyplot as plt\n",
        "\n",
        "def make_loss_plot(loss_list):\n",
        "    plt.plot(loss_list)\n",
        "    plt.ylabel('loss function')\n",
        "    plt.xlabel('number of epochs')\n",
        "    plt.show()\n",
        "    return\n",
        "make_loss_plot(loss_list)"
      ]
    },
    {
      "cell_type": "code",
      "execution_count": 165,
      "metadata": {
        "id": "oKe90qHf0QYN"
      },
      "outputs": [],
      "source": [
        "import numpy as np\n",
        "def generate_sample(char_rnn, seed_phrase='Как прекрасен может быть мир, когда мы открываем свои сердца для любви и доброты', length=150, temperature=1.0):\n",
        "    '''\n",
        "    ### Disclaimer: this is an example function for text generation.\n",
        "    ### You can either adapt it in your code or create your own function\n",
        "\n",
        "    The function generates text given a phrase of length at least SEQ_LENGTH.\n",
        "    :param seed_phrase: prefix characters. The RNN is asked to continue the phrase\n",
        "    :param max_length: maximum output length, including seed_phrase\n",
        "    :param temperature: coefficient for sampling.  higher temperature produces more chaotic outputs,\n",
        "        smaller temperature converges to the single most likely output.\n",
        "\n",
        "    Be careful with the model output. This model waits logits (not probabilities/log-probabilities)\n",
        "    of the next symbol.\n",
        "    '''\n",
        "    seed_phrase = seed_phrase.lower()\n",
        "    inputs_one_hot, _ = prepare_data(token_to_id, id_to_token, seed_phrase, seq_length=25)\n",
        "    dataset = torch.utils.data.TensorDataset(inputs_one_hot)\n",
        "    test_data_loader = torch.utils.data.DataLoader(dataset, batch_size=1, shuffle=False)\n",
        "    hidden = char_rnn.init_hidden(batch_size=1)\n",
        "    с = char_rnn.init_c(batch_size=1)\n",
        "    print(hidden.size())\n",
        "    char_rnn.eval()\n",
        "\n",
        "    with torch.no_grad():\n",
        "    #feed the seed phrase, if any\n",
        "      for inputs_tensor in test_data_loader:\n",
        "          outputs, hidden, c = char_rnn(inputs_tensor[0], hidden, с)\n",
        "\n",
        "      #start generating\n",
        "      for _ in range(length - len(seed_phrase)):\n",
        "          if inputs_tensor[-1].size(0) != 1:\n",
        "            inp = inputs_tensor[-1].unsqueeze(0)\n",
        "          else:\n",
        "            inp = inputs_tensor[-1]\n",
        "          outputs, hidden, с = char_rnn(inp, hidden, с)\n",
        "          p_next = nn.functional.softmax(outputs / temperature, dim=-1).data.numpy()[0]\n",
        "\n",
        "          # sample next token and push it back into x_sequence\n",
        "          next_ix = np.random.choice(len(tokens), p=p_next)\n",
        "          seed_phrase = seed_phrase + id_to_token[next_ix]\n",
        "          inputs_tensor, _ = prepare_data(token_to_id, id_to_token, seed_phrase, seq_length=25)\n",
        "\n",
        "    return seed_phrase"
      ]
    },
    {
      "cell_type": "code",
      "execution_count": null,
      "metadata": {
        "id": "dIV9bVvl0QYN",
        "outputId": "1622d949-d150-4b86-cc16-13e692a7f775"
      },
      "outputs": [
        {
          "name": "stdout",
          "output_type": "stream",
          "text": [
            "hide my will in thine?\n",
            "  shall will in of the simend that in my sime the seave the seave the sorll the soren the sange the seall seares and and the fart the wirl the seall the songh whing that thou hall will thoun the soond beare the with that sare the simest me the fart the wirl the songre the with thy seart so for shat so for do the dost the sing the sing the sing the soond canding the sack and the farling the wirl of sore sich and that with the seare the seall so fort the with the past the wirl the simen the wirl the sores the sare\n"
          ]
        }
      ],
      "source": [
        "# An example of generated text.\n",
        "# print(generate_text(length=500, temperature=0.2))"
      ]
    },
    {
      "cell_type": "markdown",
      "metadata": {
        "id": "qRvdSEhB0QYO"
      },
      "source": [
        "### More poetic model\n",
        "\n",
        "Let's use LSTM instead of vanilla RNN and compare the results."
      ]
    },
    {
      "cell_type": "code",
      "source": [
        "class CharLSTM(nn.Module):\n",
        "    def __init__(self, input_size, hidden_size, output_size):\n",
        "        super(CharLSTM, self).__init__()\n",
        "        self.hidden_size = hidden_size\n",
        "        self.rnn = nn.LSTM(input_size, hidden_size, batch_first=True)\n",
        "        self.fc = nn.Linear(hidden_size, output_size)\n",
        "\n",
        "    def forward(self, x, hidden, c):\n",
        "        out, (hidden, c) = self.rnn(x, (hidden, c))\n",
        "        out = self.fc(out[:, -1, :])\n",
        "        return out, hidden, c\n",
        "\n",
        "    def init_hidden(self, batch_size):\n",
        "        return torch.zeros(1, batch_size, self.hidden_size)\n",
        "\n",
        "    def init_c(self, batch_size):\n",
        "        return torch.zeros(1, batch_size, self.hidden_size)"
      ],
      "metadata": {
        "id": "wq_ciMEX58U0"
      },
      "execution_count": 11,
      "outputs": []
    },
    {
      "cell_type": "code",
      "source": [
        "def train_lstm(model, data_loader, criterion, optimizer, num_epochs):\n",
        "    model.train()\n",
        "    loss_list = []\n",
        "    for epoch in range(num_epochs):\n",
        "        total_loss = 0\n",
        "        for inputs, targets in data_loader:\n",
        "            optimizer.zero_grad()\n",
        "            hidden = model.init_hidden(inputs.size(0))\n",
        "            c = model.init_c(inputs.size(0))\n",
        "            outputs, hidden, c = model(inputs, hidden, c)\n",
        "            loss = criterion(outputs, targets)\n",
        "            loss.backward()\n",
        "            optimizer.step()\n",
        "            total_loss += loss.item()\n",
        "\n",
        "        avg_loss = total_loss / len(data_loader)\n",
        "        loss_list.append(avg_loss)\n",
        "        print(f'Epoch {epoch + 1}/{num_epochs}, Loss: {avg_loss:.4f}')\n",
        "    return model, loss_list"
      ],
      "metadata": {
        "id": "NAwvzCynjf6F"
      },
      "execution_count": 13,
      "outputs": []
    },
    {
      "cell_type": "code",
      "source": [
        "inputs_tensor, targets_tensor = prepare_data(token_to_id, id_to_token, text, seq_length=25)\n",
        "input_size = len(token_to_id)\n",
        "hidden_size = 128\n",
        "output_size = len(token_to_id)\n",
        "num_epochs = 30\n",
        "learning_rate = 0.001\n",
        "\n",
        "\n",
        "model = CharLSTM(input_size, hidden_size, output_size)\n",
        "loss = nn.CrossEntropyLoss()\n",
        "opt = optim.Adam(model.parameters(), lr=learning_rate)\n",
        "\n",
        "dataset = torch.utils.data.TensorDataset(inputs_tensor, targets_tensor)\n",
        "data_loader = torch.utils.data.DataLoader(dataset, batch_size=32, shuffle=True)\n",
        "\n",
        "model, loss_list = train_lstm(model, data_loader, loss, opt, num_epochs)"
      ],
      "metadata": {
        "colab": {
          "base_uri": "https://localhost:8080/"
        },
        "id": "kSwBU2s56HvG",
        "outputId": "25e15c5c-f45c-4aca-a4c1-22dc978961be"
      },
      "execution_count": 153,
      "outputs": [
        {
          "output_type": "stream",
          "name": "stdout",
          "text": [
            "Epoch 1/30, Loss: 2.6455\n",
            "Epoch 2/30, Loss: 2.2822\n",
            "Epoch 3/30, Loss: 2.1531\n",
            "Epoch 4/30, Loss: 2.0603\n",
            "Epoch 5/30, Loss: 1.9874\n",
            "Epoch 6/30, Loss: 1.9263\n",
            "Epoch 7/30, Loss: 1.8730\n",
            "Epoch 8/30, Loss: 1.8257\n",
            "Epoch 9/30, Loss: 1.7847\n",
            "Epoch 10/30, Loss: 1.7469\n",
            "Epoch 11/30, Loss: 1.7146\n",
            "Epoch 12/30, Loss: 1.6839\n",
            "Epoch 13/30, Loss: 1.6556\n",
            "Epoch 14/30, Loss: 1.6290\n",
            "Epoch 15/30, Loss: 1.6057\n",
            "Epoch 16/30, Loss: 1.5818\n",
            "Epoch 17/30, Loss: 1.5606\n",
            "Epoch 18/30, Loss: 1.5408\n",
            "Epoch 19/30, Loss: 1.5227\n",
            "Epoch 20/30, Loss: 1.5044\n",
            "Epoch 21/30, Loss: 1.4876\n",
            "Epoch 22/30, Loss: 1.4718\n",
            "Epoch 23/30, Loss: 1.4570\n",
            "Epoch 24/30, Loss: 1.4417\n",
            "Epoch 25/30, Loss: 1.4287\n",
            "Epoch 26/30, Loss: 1.4158\n",
            "Epoch 27/30, Loss: 1.4040\n",
            "Epoch 28/30, Loss: 1.3923\n",
            "Epoch 29/30, Loss: 1.3817\n",
            "Epoch 30/30, Loss: 1.3741\n"
          ]
        }
      ]
    },
    {
      "cell_type": "markdown",
      "metadata": {
        "id": "FRdf6am50QYO"
      },
      "source": [
        "Plot the loss function of the number of epochs. Does the final loss become better?"
      ]
    },
    {
      "cell_type": "code",
      "execution_count": 154,
      "metadata": {
        "collapsed": true,
        "id": "CO5AfaIA0QYO",
        "colab": {
          "base_uri": "https://localhost:8080/",
          "height": 449
        },
        "outputId": "f6ef4271-fe1b-4bde-a7dd-40c6d841e9ff"
      },
      "outputs": [
        {
          "output_type": "display_data",
          "data": {
            "text/plain": [
              "<Figure size 640x480 with 1 Axes>"
            ],
            "image/png": "[encoded data removed]"
          },
          "metadata": {}
        }
      ],
      "source": [
        "make_loss_plot(loss_list)"
      ]
    },
    {
      "cell_type": "markdown",
      "metadata": {
        "id": "2W_EHAKn0QYO"
      },
      "source": [
        "Generate text using the trained net with different `temperature` parameter: `[0.1, 0.2, 0.5, 1.0, 2.0]`.\n",
        "\n",
        "Evaluate the results visually, try to interpret them."
      ]
    },
    {
      "cell_type": "code",
      "execution_count": 170,
      "metadata": {
        "collapsed": true,
        "id": "rQEqRZcj0QYO",
        "colab": {
          "base_uri": "https://localhost:8080/"
        },
        "outputId": "a4160c0b-6c3c-41d7-ce1a-b38f93a53e39"
      },
      "outputs": [
        {
          "output_type": "stream",
          "name": "stdout",
          "text": [
            "torch.Size([1, 1, 128])\n",
            "как прекрасен может быть мир, когда мы открываем свои сердца для любви и добротыи,м\n",
            "анвеерн ов лнео цсвеалк ор кноовн\n",
            "оисткроейй,с\n",
            "ьв отнъоедтиалн\n",
            "ыи\n",
            " нвеедц ыу  сдтерльан ообтрраемт\n",
            "ьс твоорч авлиецт\n"
          ]
        }
      ],
      "source": [
        "print(generate_sample(model, length=200, temperature=0.1))"
      ]
    },
    {
      "cell_type": "markdown",
      "source": [
        "В LSTM меньше выражена проблема затухания градиентов за счет памяти, гейтов и т.д. Нужно дольше обучать, чтобы получить лучше генерацию"
      ],
      "metadata": {
        "id": "h_9GrK-eAaTe"
      }
    },
    {
      "cell_type": "markdown",
      "metadata": {
        "id": "11_jRGMr0QYO"
      },
      "source": [
        "### Saving and loading models"
      ]
    },
    {
      "cell_type": "markdown",
      "metadata": {
        "id": "MZefeC060QYP"
      },
      "source": [
        "Save the model to the disk, then load it and generate text. Examples are available [here](https://pytorch.org/tutorials/beginner/saving_loading_models.html])."
      ]
    },
    {
      "cell_type": "code",
      "execution_count": 18,
      "metadata": {
        "collapsed": true,
        "id": "1y-1WzIK0QYP",
        "colab": {
          "base_uri": "https://localhost:8080/"
        },
        "outputId": "7e88c3da-5e97-4c9c-ac56-5d6f085d0744"
      },
      "outputs": [
        {
          "output_type": "execute_result",
          "data": {
            "text/plain": [
              "<All keys matched successfully>"
            ]
          },
          "metadata": {},
          "execution_count": 18
        }
      ],
      "source": [
        "# Saving and loading code here\n",
        "torch.save(model.state_dict(), 'charlstm.pt')\n",
        "\n",
        "\n",
        "model = CharLSTM(input_size, hidden_size, output_size)\n",
        "model.load_state_dict(torch.load('charlstm.pt', weights_only=True))"
      ]
    },
    {
      "cell_type": "markdown",
      "metadata": {
        "id": "NU4YMV8H0QYP"
      },
      "source": [
        "### References\n",
        "1. <a href='http://karpathy.github.io/2015/05/21/rnn-effectiveness/'> Andrew Karpathy blog post about RNN. </a>\n",
        "There are several examples of genration: Shakespeare texts, Latex formulas, Linux Sourse Code and children names.\n",
        "2. <a href='https://github.com/karpathy/char-rnn'> Repo with char-rnn code </a>\n",
        "3. Cool repo with PyTorch examples: [link](https://github.com/spro/practical-pytorch`)"
      ]
    }
  ],
  "metadata": {
    "anaconda-cloud": {},
    "colab": {
      "provenance": []
    },
    "kernelspec": {
      "display_name": "Python 3",
      "language": "python",
      "name": "python3"
    },
    "language_info": {
      "codemirror_mode": {
        "name": "ipython",
        "version": 3
      },
      "file_extension": ".py",
      "mimetype": "text/x-python",
      "name": "python",
      "nbconvert_exporter": "python",
      "pygments_lexer": "ipython3",
      "version": "3.7.7"
    }
  },
  "nbformat": 4,
  "nbformat_minor": 0
}