{
  "cells": [
    {
      "cell_type": "markdown",
      "metadata": {
        "id": "NFmOh482SyEF"
      },
      "source": [
        "## Lab 2\n",
        "### Part 2: Dealing with overfitting"
      ]
    },
    {
      "cell_type": "markdown",
      "metadata": {
        "id": "AjzAuO3oSvsI"
      },
      "source": [
        "Today we work with [Fashion-MNIST dataset](https://github.com/zalandoresearch/fashion-mnist) (*hint: it is available in `torchvision`*).\n",
        "\n",
        "Your goal for today:\n",
        "1. Train a FC (fully-connected) network that achieves >= 0.885 test accuracy.\n",
        "2. Cause considerable overfitting by modifying the network (e.g. increasing the number of network parameters and/or layers) and demonstrate in in the appropriate way (e.g. plot loss and accurasy on train and validation set w.r.t. network complexity).\n",
        "3. Try to deal with overfitting (at least partially) by using regularization techniques (Dropout/Batchnorm/...) and demonstrate the results.\n",
        "\n",
        "__Please, write a small report describing your ideas, tries and achieved results in the end of this file.__\n",
        "\n",
        "*Note*: Tasks 2 and 3 are interrelated, in task 3 your goal is to make the network from task 2 less prone to overfitting. Task 1 is independent from 2 and 3.\n",
        "\n",
        "*Note 2*: We recomment to use Google Colab or other machine with GPU acceleration."
      ]
    },
    {
      "cell_type": "code",
      "execution_count": null,
      "metadata": {
        "id": "_KBld6VOSwhW"
      },
      "outputs": [],
      "source": [
        "import torch\n",
        "import torch.nn as nn\n",
        "import torchvision\n",
        "import torchvision.transforms as transforms\n",
        "import torchsummary\n",
        "from IPython.display import clear_output\n",
        "from matplotlib import pyplot as plt\n",
        "from matplotlib.pyplot import figure\n",
        "import numpy as np\n",
        "import os\n",
        "\n",
        "\n",
        "device = 'cuda:0' if torch.cuda.is_available() else 'cpu'"
      ]
    },
    {
      "cell_type": "code",
      "execution_count": null,
      "metadata": {
        "colab": {
          "base_uri": "https://localhost:8080/"
        },
        "id": "EdLOG0XqS_g5",
        "outputId": "f2eb7900-d868-4000-a509-4578e51ada61"
      },
      "outputs": [
        {
          "output_type": "stream",
          "name": "stdout",
          "text": [
            "Directory fmnist already exists!\n"
          ]
        }
      ],
      "source": [
        "# Technical function\n",
        "def mkdir(path):\n",
        "    if not os.path.exists(root_path):\n",
        "        os.mkdir(root_path)\n",
        "        print('Directory', path, 'is created!')\n",
        "    else:\n",
        "        print('Directory', path, 'already exists!')\n",
        "\n",
        "root_path = 'fmnist'\n",
        "mkdir(root_path)"
      ]
    },
    {
      "cell_type": "code",
      "execution_count": null,
      "metadata": {
        "id": "qt6LE7XaTDT9"
      },
      "outputs": [],
      "source": [
        "download = True\n",
        "train_transform = transforms.ToTensor()\n",
        "test_transform = transforms.ToTensor()\n",
        "transforms.Compose((transforms.ToTensor()))\n",
        "\n",
        "\n",
        "fmnist_dataset_train = torchvision.datasets.FashionMNIST(root_path,\n",
        "                                                        train=True,\n",
        "                                                        transform=train_transform,\n",
        "                                                        target_transform=None,\n",
        "                                                        download=download)\n",
        "fmnist_dataset_test = torchvision.datasets.FashionMNIST(root_path,\n",
        "                                                       train=False,\n",
        "                                                       transform=test_transform,\n",
        "                                                       target_transform=None,\n",
        "                                                       download=download)"
      ]
    },
    {
      "cell_type": "code",
      "execution_count": null,
      "metadata": {
        "id": "71YP0SPwTIxD"
      },
      "outputs": [],
      "source": [
        "train_loader = torch.utils.data.DataLoader(fmnist_dataset_train,\n",
        "                                           batch_size=128,\n",
        "                                           shuffle=True,\n",
        "                                           num_workers=2)\n",
        "test_loader = torch.utils.data.DataLoader(fmnist_dataset_test,\n",
        "                                          batch_size=256,\n",
        "                                          shuffle=False,\n",
        "                                          num_workers=2)"
      ]
    },
    {
      "cell_type": "code",
      "execution_count": null,
      "metadata": {
        "colab": {
          "base_uri": "https://localhost:8080/"
        },
        "id": "v_YFmF7NTWrQ",
        "outputId": "063148f6-0652-4300-c21e-f5a0e595926f"
      },
      "outputs": [
        {
          "output_type": "execute_result",
          "data": {
            "text/plain": [
              "10000"
            ]
          },
          "metadata": {},
          "execution_count": 17
        }
      ],
      "source": [
        "len(fmnist_dataset_test)"
      ]
    },
    {
      "cell_type": "code",
      "execution_count": null,
      "metadata": {
        "colab": {
          "base_uri": "https://localhost:8080/"
        },
        "id": "aHca15bOTY4B",
        "outputId": "b11733a7-60da-4445-b1ec-f559abfdfe18"
      },
      "outputs": [
        {
          "output_type": "stream",
          "name": "stdout",
          "text": [
            "torch.Size([128, 1, 28, 28])\n",
            "torch.Size([128])\n",
            "128\n"
          ]
        }
      ],
      "source": [
        "for img, label in train_loader:\n",
        "    print(img.shape)\n",
        "#     print(img)\n",
        "    print(label.shape)\n",
        "    print(label.size(0))\n",
        "    break"
      ]
    },
    {
      "cell_type": "markdown",
      "metadata": {
        "id": "b6OOOffHTfX5"
      },
      "source": [
        "### Task 1\n",
        "Train a network that achieves $\\geq 0.885$ test accuracy. It's fine to use only Linear (`nn.Linear`) layers and activations/dropout/batchnorm. Convolutional layers might be a great use, but we will meet them a bit later."
      ]
    },
    {
      "cell_type": "code",
      "execution_count": null,
      "metadata": {
        "id": "ftpkTjxlTcFx"
      },
      "outputs": [],
      "source": [
        "class TinyNeuralNetwork(nn.Module):\n",
        "    def __init__(self, input_shape=28*28, num_classes=10, input_channels=1):\n",
        "        super(self.__class__, self).__init__()\n",
        "        self.model = nn.Sequential(\n",
        "            nn.Flatten(), # This layer converts image into a vector to use Linear layers afterwards\n",
        "            # Your network structure comes here\n",
        "            nn.Linear(784, 256),\n",
        "            nn.BatchNorm1d(256),\n",
        "            nn.ReLU(),\n",
        "            nn.Linear(256, 128),\n",
        "            nn.Linear(128, num_classes)\n",
        "        )\n",
        "\n",
        "    def forward(self, inp):\n",
        "        out = self.model(inp)\n",
        "        return out"
      ]
    },
    {
      "cell_type": "code",
      "execution_count": null,
      "metadata": {
        "colab": {
          "base_uri": "https://localhost:8080/"
        },
        "id": "2N72ZWiEGu-j",
        "outputId": "a7a8ecff-d819-4bac-d33d-03f30106ed0e"
      },
      "outputs": [
        {
          "output_type": "stream",
          "name": "stdout",
          "text": [
            "----------------------------------------------------------------\n",
            "        Layer (type)               Output Shape         Param #\n",
            "================================================================\n",
            "           Flatten-1                  [-1, 784]               0\n",
            "            Linear-2                  [-1, 256]         200,960\n",
            "       BatchNorm1d-3                  [-1, 256]             512\n",
            "              ReLU-4                  [-1, 256]               0\n",
            "            Linear-5                  [-1, 128]          32,896\n",
            "            Linear-6                   [-1, 10]           1,290\n",
            "================================================================\n",
            "Total params: 235,658\n",
            "Trainable params: 235,658\n",
            "Non-trainable params: 0\n",
            "----------------------------------------------------------------\n",
            "Input size (MB): 0.00\n",
            "Forward/backward pass size (MB): 0.01\n",
            "Params size (MB): 0.90\n",
            "Estimated Total Size (MB): 0.91\n",
            "----------------------------------------------------------------\n"
          ]
        }
      ],
      "source": [
        "torchsummary.summary(TinyNeuralNetwork().to(device), (28*28,))"
      ]
    },
    {
      "cell_type": "markdown",
      "metadata": {
        "id": "544PGKEnjPr5"
      },
      "source": [
        "Your experiments come here:"
      ]
    },
    {
      "cell_type": "code",
      "source": [
        "def train(model, dataloader, criterion, optimizer, num_epochs):\n",
        "    model.train()\n",
        "    for epoch in range(num_epochs):\n",
        "        running_loss = 0.0\n",
        "        for inputs, labels in dataloader:\n",
        "            inputs, labels = inputs.to(device), labels.to(device)\n",
        "            optimizer.zero_grad()\n",
        "            outputs = model(inputs)\n",
        "            loss = criterion(outputs, labels)\n",
        "            loss.backward()\n",
        "            optimizer.step()\n",
        "\n",
        "            running_loss += loss.item()\n",
        "\n",
        "        print(f'Epoch [{epoch+1}/{num_epochs}], Loss: {running_loss/len(dataloader):.4f}')\n",
        "\n",
        "def evaluate(model, dataloader):\n",
        "    model.eval()\n",
        "    correct = 0\n",
        "    total = 0\n",
        "\n",
        "    with torch.no_grad():\n",
        "        for inputs, labels in dataloader:\n",
        "            inputs, labels = inputs.to(device), labels.to(device)\n",
        "            outputs = model(inputs)\n",
        "            _, predicted = torch.max(outputs.data, 1)\n",
        "            total += labels.size(0)\n",
        "            correct += (predicted == labels).sum().item()\n",
        "\n",
        "    accuracy = correct / total\n",
        "    return accuracy\n"
      ],
      "metadata": {
        "id": "w47YOnbOKhKo"
      },
      "execution_count": null,
      "outputs": []
    },
    {
      "cell_type": "code",
      "execution_count": null,
      "metadata": {
        "id": "i3POFj90Ti-6"
      },
      "outputs": [],
      "source": [
        "model = TinyNeuralNetwork().to(device)\n",
        "opt = torch.optim.SGD(model.parameters(), lr=0.001, momentum=0.9)\n",
        "loss_func = nn.CrossEntropyLoss()"
      ]
    },
    {
      "cell_type": "code",
      "source": [
        "train(model, train_loader, loss_func, opt, num_epochs=35)"
      ],
      "metadata": {
        "colab": {
          "base_uri": "https://localhost:8080/"
        },
        "id": "EaWS1Zz8LlQf",
        "outputId": "3fd16caa-2a3b-4407-fa0b-18200096d7b8"
      },
      "execution_count": null,
      "outputs": [
        {
          "output_type": "stream",
          "name": "stdout",
          "text": [
            "Epoch [1/35], Loss: 0.8662\n",
            "Epoch [2/35], Loss: 0.4947\n",
            "Epoch [3/35], Loss: 0.4308\n",
            "Epoch [4/35], Loss: 0.3975\n",
            "Epoch [5/35], Loss: 0.3730\n",
            "Epoch [6/35], Loss: 0.3541\n",
            "Epoch [7/35], Loss: 0.3400\n",
            "Epoch [8/35], Loss: 0.3276\n",
            "Epoch [9/35], Loss: 0.3161\n",
            "Epoch [10/35], Loss: 0.3047\n",
            "Epoch [11/35], Loss: 0.2954\n",
            "Epoch [12/35], Loss: 0.2858\n",
            "Epoch [13/35], Loss: 0.2769\n",
            "Epoch [14/35], Loss: 0.2689\n",
            "Epoch [15/35], Loss: 0.2605\n",
            "Epoch [16/35], Loss: 0.2533\n",
            "Epoch [17/35], Loss: 0.2467\n",
            "Epoch [18/35], Loss: 0.2396\n",
            "Epoch [19/35], Loss: 0.2325\n",
            "Epoch [20/35], Loss: 0.2266\n",
            "Epoch [21/35], Loss: 0.2198\n",
            "Epoch [22/35], Loss: 0.2144\n",
            "Epoch [23/35], Loss: 0.2085\n",
            "Epoch [24/35], Loss: 0.2025\n",
            "Epoch [25/35], Loss: 0.1971\n",
            "Epoch [26/35], Loss: 0.1909\n",
            "Epoch [27/35], Loss: 0.1846\n",
            "Epoch [28/35], Loss: 0.1815\n",
            "Epoch [29/35], Loss: 0.1752\n",
            "Epoch [30/35], Loss: 0.1700\n",
            "Epoch [31/35], Loss: 0.1656\n",
            "Epoch [32/35], Loss: 0.1613\n",
            "Epoch [33/35], Loss: 0.1586\n",
            "Epoch [34/35], Loss: 0.1524\n",
            "Epoch [35/35], Loss: 0.1484\n"
          ]
        }
      ]
    },
    {
      "cell_type": "code",
      "source": [
        "evaluate(model, test_loader)"
      ],
      "metadata": {
        "colab": {
          "base_uri": "https://localhost:8080/"
        },
        "id": "UI50IdjlQpOu",
        "outputId": "0cac91ae-cd68-4436-819a-2d5843b7908d"
      },
      "execution_count": null,
      "outputs": [
        {
          "output_type": "execute_result",
          "data": {
            "text/plain": [
              "0.8866"
            ]
          },
          "metadata": {},
          "execution_count": 96
        }
      ]
    },
    {
      "cell_type": "markdown",
      "metadata": {
        "id": "L7ISqkjmCPB1"
      },
      "source": [
        "### Task 2: Overfit it.\n",
        "Build a network that will overfit to this dataset. Demonstrate the overfitting in the appropriate way (e.g. plot loss and accurasy on train and test set w.r.t. network complexity).\n",
        "\n",
        "*Note:* you also might decrease the size of `train` dataset to enforce the overfitting and speed up the computations."
      ]
    },
    {
      "cell_type": "code",
      "source": [
        "class OverfittingNeuralNetwork(nn.Module):\n",
        "    def __init__(self, input_shape=28*28, num_classes=10, input_channels=1):\n",
        "        super(self.__class__, self).__init__()\n",
        "        self.model = nn.Sequential(\n",
        "            nn.Flatten(), # This layer converts image into a vector to use Linear layers afterwards\n",
        "            nn.Linear(784, 4096),\n",
        "            nn.ReLU(),\n",
        "            nn.Linear(4096, 512),\n",
        "            nn.ReLU(),\n",
        "            nn.Linear(512, 256),\n",
        "            nn.ReLU(),\n",
        "            nn.Linear(256, 128),\n",
        "            nn.Linear(128, num_classes)\n",
        "        )\n",
        "\n",
        "    def forward(self, inp):\n",
        "        out = self.model(inp)\n",
        "        return out"
      ],
      "metadata": {
        "id": "42v5-Zvgydmv"
      },
      "execution_count": null,
      "outputs": []
    },
    {
      "cell_type": "code",
      "source": [
        "model = OverfittingNeuralNetwork().to(device)\n",
        "opt = torch.optim.SGD(model.parameters(), lr=0.001, momentum=0.9)\n",
        "loss_func = nn.CrossEntropyLoss()"
      ],
      "metadata": {
        "id": "Qocyyjq-yjkI"
      },
      "execution_count": null,
      "outputs": []
    },
    {
      "cell_type": "code",
      "source": [
        "train(model, train_loader, loss_func, opt, num_epochs=35)"
      ],
      "metadata": {
        "colab": {
          "base_uri": "https://localhost:8080/"
        },
        "id": "ScEuvuZHys6f",
        "outputId": "62801430-f655-485f-c174-dc6a1dc8cbae"
      },
      "execution_count": null,
      "outputs": [
        {
          "output_type": "stream",
          "name": "stdout",
          "text": [
            "Epoch [1/35], Loss: 2.1524\n",
            "Epoch [2/35], Loss: 1.1488\n",
            "Epoch [3/35], Loss: 0.7970\n",
            "Epoch [4/35], Loss: 0.6809\n",
            "Epoch [5/35], Loss: 0.6115\n",
            "Epoch [6/35], Loss: 0.5668\n",
            "Epoch [7/35], Loss: 0.5345\n",
            "Epoch [8/35], Loss: 0.5091\n",
            "Epoch [9/35], Loss: 0.4882\n",
            "Epoch [10/35], Loss: 0.4704\n",
            "Epoch [11/35], Loss: 0.4524\n",
            "Epoch [12/35], Loss: 0.4388\n",
            "Epoch [13/35], Loss: 0.4234\n",
            "Epoch [14/35], Loss: 0.4122\n",
            "Epoch [15/35], Loss: 0.4013\n",
            "Epoch [16/35], Loss: 0.3915\n",
            "Epoch [17/35], Loss: 0.3829\n",
            "Epoch [18/35], Loss: 0.3745\n",
            "Epoch [19/35], Loss: 0.3698\n",
            "Epoch [20/35], Loss: 0.3601\n",
            "Epoch [21/35], Loss: 0.3545\n",
            "Epoch [22/35], Loss: 0.3470\n",
            "Epoch [23/35], Loss: 0.3443\n",
            "Epoch [24/35], Loss: 0.3334\n",
            "Epoch [25/35], Loss: 0.3305\n",
            "Epoch [26/35], Loss: 0.3216\n",
            "Epoch [27/35], Loss: 0.3160\n",
            "Epoch [28/35], Loss: 0.3139\n",
            "Epoch [29/35], Loss: 0.3072\n",
            "Epoch [30/35], Loss: 0.3005\n",
            "Epoch [31/35], Loss: 0.2961\n",
            "Epoch [32/35], Loss: 0.2898\n",
            "Epoch [33/35], Loss: 0.2870\n",
            "Epoch [34/35], Loss: 0.2810\n",
            "Epoch [35/35], Loss: 0.2767\n"
          ]
        }
      ]
    },
    {
      "cell_type": "code",
      "source": [
        "evaluate(model, test_loader)"
      ],
      "metadata": {
        "colab": {
          "base_uri": "https://localhost:8080/"
        },
        "id": "S1jAPVFoywKQ",
        "outputId": "b65b1412-737a-4a4a-fedd-efce89553f10"
      },
      "execution_count": null,
      "outputs": [
        {
          "output_type": "execute_result",
          "data": {
            "text/plain": [
              "0.8737"
            ]
          },
          "metadata": {},
          "execution_count": 170
        }
      ]
    },
    {
      "cell_type": "code",
      "source": [
        "evaluate(model, train_loader)"
      ],
      "metadata": {
        "colab": {
          "base_uri": "https://localhost:8080/"
        },
        "id": "_gEqafmcywbY",
        "outputId": "449ec996-82e9-44ea-c7f7-d0100c3dda41"
      },
      "execution_count": null,
      "outputs": [
        {
          "output_type": "execute_result",
          "data": {
            "text/plain": [
              "0.8994666666666666"
            ]
          },
          "metadata": {},
          "execution_count": 171
        }
      ]
    },
    {
      "cell_type": "code",
      "execution_count": null,
      "metadata": {
        "id": "H12uAWiGBwJx"
      },
      "outputs": [],
      "source": [
        "class OverfittingNeuralNetwork(nn.Module):\n",
        "    def __init__(self, input_shape=28*28, num_classes=10, input_channels=1):\n",
        "        super(self.__class__, self).__init__()\n",
        "        self.model = nn.Sequential(\n",
        "            nn.Flatten(), # This layer converts image into a vector to use Linear layers afterwards\n",
        "            nn.Linear(784, 4096),\n",
        "            nn.BatchNorm1d(4096),\n",
        "            nn.ReLU(),\n",
        "            nn.Linear(4096, 512),\n",
        "            nn.BatchNorm1d(512),\n",
        "            nn.ReLU(),\n",
        "            nn.Linear(512, 256),\n",
        "            nn.BatchNorm1d(256),\n",
        "            nn.ReLU(),\n",
        "            nn.Linear(256, 128),\n",
        "            nn.Linear(128, num_classes)\n",
        "        )\n",
        "\n",
        "    def forward(self, inp):\n",
        "        out = self.model(inp)\n",
        "        return out"
      ]
    },
    {
      "cell_type": "code",
      "execution_count": null,
      "metadata": {
        "colab": {
          "base_uri": "https://localhost:8080/"
        },
        "id": "JgXAKCpvCwqH",
        "outputId": "29752149-c8fe-439e-c3aa-7828de697070"
      },
      "outputs": [
        {
          "output_type": "stream",
          "name": "stdout",
          "text": [
            "----------------------------------------------------------------\n",
            "        Layer (type)               Output Shape         Param #\n",
            "================================================================\n",
            "           Flatten-1                  [-1, 784]               0\n",
            "            Linear-2                 [-1, 4096]       3,215,360\n",
            "       BatchNorm1d-3                 [-1, 4096]           8,192\n",
            "              ReLU-4                 [-1, 4096]               0\n",
            "            Linear-5                  [-1, 512]       2,097,664\n",
            "       BatchNorm1d-6                  [-1, 512]           1,024\n",
            "              ReLU-7                  [-1, 512]               0\n",
            "            Linear-8                  [-1, 256]         131,328\n",
            "       BatchNorm1d-9                  [-1, 256]             512\n",
            "             ReLU-10                  [-1, 256]               0\n",
            "           Linear-11                  [-1, 128]          32,896\n",
            "           Linear-12                   [-1, 10]           1,290\n",
            "================================================================\n",
            "Total params: 5,488,266\n",
            "Trainable params: 5,488,266\n",
            "Non-trainable params: 0\n",
            "----------------------------------------------------------------\n",
            "Input size (MB): 0.00\n",
            "Forward/backward pass size (MB): 0.12\n",
            "Params size (MB): 20.94\n",
            "Estimated Total Size (MB): 21.06\n",
            "----------------------------------------------------------------\n"
          ]
        }
      ],
      "source": [
        "torchsummary.summary(OverfittingNeuralNetwork().to(device), (28*28,))"
      ]
    },
    {
      "cell_type": "code",
      "execution_count": null,
      "metadata": {
        "id": "0sJ36ISrGu-k"
      },
      "outputs": [],
      "source": [
        "model = OverfittingNeuralNetwork().to(device)\n",
        "opt = torch.optim.SGD(model.parameters(), lr=0.001, momentum=0.9)\n",
        "loss_func = nn.CrossEntropyLoss()\n",
        "\n"
      ]
    },
    {
      "cell_type": "code",
      "source": [
        "train(model, train_loader, loss_func, opt, num_epochs=35)"
      ],
      "metadata": {
        "colab": {
          "base_uri": "https://localhost:8080/"
        },
        "id": "Y8VVFGXucPST",
        "outputId": "00c15a12-ca90-4b2c-fb81-3cd962186974"
      },
      "execution_count": null,
      "outputs": [
        {
          "output_type": "stream",
          "name": "stdout",
          "text": [
            "Epoch [1/35], Loss: 0.6402\n",
            "Epoch [2/35], Loss: 0.3492\n",
            "Epoch [3/35], Loss: 0.2907\n",
            "Epoch [4/35], Loss: 0.2509\n",
            "Epoch [5/35], Loss: 0.2183\n",
            "Epoch [6/35], Loss: 0.1893\n",
            "Epoch [7/35], Loss: 0.1627\n",
            "Epoch [8/35], Loss: 0.1393\n",
            "Epoch [9/35], Loss: 0.1194\n",
            "Epoch [10/35], Loss: 0.1022\n",
            "Epoch [11/35], Loss: 0.0883\n",
            "Epoch [12/35], Loss: 0.0779\n",
            "Epoch [13/35], Loss: 0.0626\n",
            "Epoch [14/35], Loss: 0.0528\n",
            "Epoch [15/35], Loss: 0.0464\n",
            "Epoch [16/35], Loss: 0.0416\n",
            "Epoch [17/35], Loss: 0.0381\n",
            "Epoch [18/35], Loss: 0.0273\n",
            "Epoch [19/35], Loss: 0.0292\n",
            "Epoch [20/35], Loss: 0.0237\n",
            "Epoch [21/35], Loss: 0.0193\n",
            "Epoch [22/35], Loss: 0.0167\n",
            "Epoch [23/35], Loss: 0.0139\n",
            "Epoch [24/35], Loss: 0.0126\n",
            "Epoch [25/35], Loss: 0.0145\n",
            "Epoch [26/35], Loss: 0.0101\n",
            "Epoch [27/35], Loss: 0.0093\n",
            "Epoch [28/35], Loss: 0.0058\n",
            "Epoch [29/35], Loss: 0.0048\n",
            "Epoch [30/35], Loss: 0.0046\n",
            "Epoch [31/35], Loss: 0.0033\n",
            "Epoch [32/35], Loss: 0.0028\n",
            "Epoch [33/35], Loss: 0.0026\n",
            "Epoch [34/35], Loss: 0.0028\n",
            "Epoch [35/35], Loss: 0.0017\n"
          ]
        }
      ]
    },
    {
      "cell_type": "code",
      "source": [
        "evaluate(model, test_loader)"
      ],
      "metadata": {
        "colab": {
          "base_uri": "https://localhost:8080/"
        },
        "id": "FOwOEZj9cSLo",
        "outputId": "4a9fea6f-b2ba-4257-9036-363c458ae34b"
      },
      "execution_count": null,
      "outputs": [
        {
          "output_type": "execute_result",
          "data": {
            "text/plain": [
              "0.9028"
            ]
          },
          "metadata": {},
          "execution_count": 122
        }
      ]
    },
    {
      "cell_type": "code",
      "source": [
        "evaluate(model, train_loader)"
      ],
      "metadata": {
        "colab": {
          "base_uri": "https://localhost:8080/"
        },
        "id": "L3ITvcppcYVI",
        "outputId": "2db25e47-4b4e-4157-b010-bcada8dbd9b4"
      },
      "execution_count": null,
      "outputs": [
        {
          "output_type": "execute_result",
          "data": {
            "text/plain": [
              "1.0"
            ]
          },
          "metadata": {},
          "execution_count": 123
        }
      ]
    },
    {
      "cell_type": "markdown",
      "metadata": {
        "id": "mjuGaw0DGu-k"
      },
      "source": [
        "### Task 3: Fix it.\n",
        "Fix the overfitted network from the previous step (at least partially) by using regularization techniques (Dropout/Batchnorm/...) and demonstrate the results."
      ]
    },
    {
      "cell_type": "code",
      "execution_count": null,
      "metadata": {
        "id": "x6qIKoc7Gu-l"
      },
      "outputs": [],
      "source": [
        "class FixedNeuralNetwork(nn.Module):\n",
        "    def __init__(self, input_shape=28*28, num_classes=10, input_channels=1):\n",
        "        super(self.__class__, self).__init__()\n",
        "        self.model = nn.Sequential(\n",
        "            nn.Flatten(), # This layer converts image into a vector to use Linear layers afterwards\n",
        "            nn.Linear(784, 4096),\n",
        "            nn.BatchNorm1d(4096),\n",
        "            nn.ReLU(),\n",
        "            nn.Dropout(0.5),\n",
        "            nn.Linear(4096, 512),\n",
        "            nn.BatchNorm1d(512),\n",
        "            nn.ReLU(),\n",
        "            nn.Linear(512, 256),\n",
        "            nn.BatchNorm1d(256),\n",
        "            nn.ReLU(),\n",
        "            nn.Linear(256, 128),\n",
        "            nn.Linear(128, num_classes)\n",
        "        )\n",
        "\n",
        "    def forward(self, inp):\n",
        "        out = self.model(inp)\n",
        "        return out"
      ]
    },
    {
      "cell_type": "code",
      "execution_count": null,
      "metadata": {
        "colab": {
          "base_uri": "https://localhost:8080/"
        },
        "id": "bO-9wycZGu-l",
        "outputId": "fa876695-89a4-4fb4-e5f9-11a29dc952ce"
      },
      "outputs": [
        {
          "output_type": "stream",
          "name": "stdout",
          "text": [
            "----------------------------------------------------------------\n",
            "        Layer (type)               Output Shape         Param #\n",
            "================================================================\n",
            "           Flatten-1                  [-1, 784]               0\n",
            "            Linear-2                 [-1, 4096]       3,215,360\n",
            "       BatchNorm1d-3                 [-1, 4096]           8,192\n",
            "              ReLU-4                 [-1, 4096]               0\n",
            "           Dropout-5                 [-1, 4096]               0\n",
            "            Linear-6                  [-1, 512]       2,097,664\n",
            "       BatchNorm1d-7                  [-1, 512]           1,024\n",
            "              ReLU-8                  [-1, 512]               0\n",
            "            Linear-9                  [-1, 256]         131,328\n",
            "      BatchNorm1d-10                  [-1, 256]             512\n",
            "             ReLU-11                  [-1, 256]               0\n",
            "           Linear-12                  [-1, 128]          32,896\n",
            "           Linear-13                   [-1, 10]           1,290\n",
            "================================================================\n",
            "Total params: 5,488,266\n",
            "Trainable params: 5,488,266\n",
            "Non-trainable params: 0\n",
            "----------------------------------------------------------------\n",
            "Input size (MB): 0.00\n",
            "Forward/backward pass size (MB): 0.15\n",
            "Params size (MB): 20.94\n",
            "Estimated Total Size (MB): 21.09\n",
            "----------------------------------------------------------------\n"
          ]
        }
      ],
      "source": [
        "torchsummary.summary(FixedNeuralNetwork().to(device), (28*28,))"
      ]
    },
    {
      "cell_type": "code",
      "execution_count": null,
      "metadata": {
        "id": "fE2poocQGu-l"
      },
      "outputs": [],
      "source": [
        "model = FixedNeuralNetwork().to(device)\n",
        "opt = torch.optim.SGD(model.parameters(), lr=0.001, momentum=0.9)\n",
        "loss_func = nn.CrossEntropyLoss()"
      ]
    },
    {
      "cell_type": "code",
      "source": [
        "train(model, train_loader, loss_func, opt, num_epochs=35)"
      ],
      "metadata": {
        "colab": {
          "base_uri": "https://localhost:8080/"
        },
        "id": "Q7xSf1VyhmiY",
        "outputId": "ac3c92c3-a0dc-4d58-dbdb-f7e600b393b1"
      },
      "execution_count": null,
      "outputs": [
        {
          "output_type": "stream",
          "name": "stdout",
          "text": [
            "Epoch [1/35], Loss: 0.8206\n",
            "Epoch [2/35], Loss: 0.4500\n",
            "Epoch [3/35], Loss: 0.3923\n",
            "Epoch [4/35], Loss: 0.3621\n",
            "Epoch [5/35], Loss: 0.3405\n",
            "Epoch [6/35], Loss: 0.3238\n",
            "Epoch [7/35], Loss: 0.3119\n",
            "Epoch [8/35], Loss: 0.2985\n",
            "Epoch [9/35], Loss: 0.2894\n",
            "Epoch [10/35], Loss: 0.2781\n",
            "Epoch [11/35], Loss: 0.2701\n",
            "Epoch [12/35], Loss: 0.2600\n",
            "Epoch [13/35], Loss: 0.2527\n",
            "Epoch [14/35], Loss: 0.2456\n",
            "Epoch [15/35], Loss: 0.2365\n",
            "Epoch [16/35], Loss: 0.2310\n",
            "Epoch [17/35], Loss: 0.2242\n",
            "Epoch [18/35], Loss: 0.2173\n",
            "Epoch [19/35], Loss: 0.2108\n",
            "Epoch [20/35], Loss: 0.2065\n",
            "Epoch [21/35], Loss: 0.2006\n",
            "Epoch [22/35], Loss: 0.1967\n",
            "Epoch [23/35], Loss: 0.1898\n",
            "Epoch [24/35], Loss: 0.1829\n",
            "Epoch [25/35], Loss: 0.1775\n",
            "Epoch [26/35], Loss: 0.1725\n",
            "Epoch [27/35], Loss: 0.1683\n",
            "Epoch [28/35], Loss: 0.1656\n",
            "Epoch [29/35], Loss: 0.1605\n",
            "Epoch [30/35], Loss: 0.1528\n",
            "Epoch [31/35], Loss: 0.1492\n",
            "Epoch [32/35], Loss: 0.1460\n",
            "Epoch [33/35], Loss: 0.1419\n",
            "Epoch [34/35], Loss: 0.1382\n",
            "Epoch [35/35], Loss: 0.1340\n"
          ]
        }
      ]
    },
    {
      "cell_type": "code",
      "source": [
        "evaluate(model, test_loader)"
      ],
      "metadata": {
        "colab": {
          "base_uri": "https://localhost:8080/"
        },
        "id": "dubYCerShqVu",
        "outputId": "991a91d4-ab4d-49e5-cb56-07e6e196766f"
      },
      "execution_count": null,
      "outputs": [
        {
          "output_type": "execute_result",
          "data": {
            "text/plain": [
              "0.9055"
            ]
          },
          "metadata": {},
          "execution_count": 163
        }
      ]
    },
    {
      "cell_type": "code",
      "source": [
        "evaluate(model, train_loader)"
      ],
      "metadata": {
        "colab": {
          "base_uri": "https://localhost:8080/"
        },
        "id": "UPdlMDY0hstC",
        "outputId": "93a9c5cc-e2b7-4479-f7a4-dd7343a6e343"
      },
      "execution_count": null,
      "outputs": [
        {
          "output_type": "execute_result",
          "data": {
            "text/plain": [
              "0.9786"
            ]
          },
          "metadata": {},
          "execution_count": 164
        }
      ]
    },
    {
      "cell_type": "markdown",
      "metadata": {
        "id": "dMui_uLJ7G0d"
      },
      "source": [
        "### Conclusions:\n",
        "Переобчение возникает, когда разнообразие зависимостей в данных меньше, чем сложность модели. Выражается в разнице метрик на трейне и тесте. Поэтому сначала, возможно, нужно переобучить, а потом \"упрощать\". Тем не менее, есть эффект grokking, когда сначала по метрикам наблюдаем переобучение, а потом через некоторое количество эпох видим рост метрик на тесте. Такое происходит не на всеъ моделях, но про это нужно помнить. Dropout можно воспринимать, как некий аналог (не на 100%) бутсрепа. Batchnorm все-таки не совсем про регуляризацию, а про стабилизацию и ускорение обучения"
      ]
    }
  ],
  "metadata": {
    "accelerator": "GPU",
    "colab": {
      "provenance": []
    },
    "kernelspec": {
      "display_name": "Python 3",
      "language": "python",
      "name": "python3"
    },
    "language_info": {
      "codemirror_mode": {
        "name": "ipython",
        "version": 3
      },
      "file_extension": ".py",
      "mimetype": "text/x-python",
      "name": "python",
      "nbconvert_exporter": "python",
      "pygments_lexer": "ipython3",
      "version": "3.7.7"
    }
  },
  "nbformat": 4,
  "nbformat_minor": 0
}